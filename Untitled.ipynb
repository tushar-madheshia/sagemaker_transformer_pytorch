{
 "cells": [
  {
   "cell_type": "code",
   "execution_count": null,
   "id": "ff4e5d18",
   "metadata": {},
   "outputs": [],
   "source": [
    "from boto3.session import Session\n",
    "import boto3\n",
    "\n",
    "# Let's use Amazon S3\n",
    "s3 = boto3.resource(\"s3\")\n",
    "\n",
    "# Print out bucket names to check you have accessibility\n",
    "# for bucket in s3.buckets.all():\n",
    "#     print(bucket.name)\n",
    "\n",
    "session = Session()\n",
    "OR\n",
    "session = Session(aws_access_key_id=\"AKIAYJN2LNOU\",\n",
    "                  aws_secret_access_key=\"wMyT0SxEOsoeiHYVO3v9Gc\",\n",
    "                  region_name=\"eu-west-1\")   "
   ]
  }
 ],
 "metadata": {
  "kernelspec": {
   "display_name": "Python 3",
   "language": "python",
   "name": "python3"
  },
  "language_info": {
   "codemirror_mode": {
    "name": "ipython",
    "version": 3
   },
   "file_extension": ".py",
   "mimetype": "text/x-python",
   "name": "python",
   "nbconvert_exporter": "python",
   "pygments_lexer": "ipython3",
   "version": "3.8.17"
  }
 },
 "nbformat": 4,
 "nbformat_minor": 5
}
