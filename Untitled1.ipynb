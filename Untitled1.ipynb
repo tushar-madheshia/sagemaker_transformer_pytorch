{
 "cells": [
  {
   "cell_type": "code",
   "execution_count": 4,
   "id": "000a3ff2",
   "metadata": {},
   "outputs": [],
   "source": [
    "# ! pip install boto3\n",
    "import getpass"
   ]
  },
  {
   "cell_type": "code",
   "execution_count": 5,
   "id": "22309bdb",
   "metadata": {},
   "outputs": [
    {
     "name": "stdout",
     "output_type": "stream",
     "text": [
      "Enter aws access ID : ········\n",
      "Enter aws access KEY : ········\n"
     ]
    }
   ],
   "source": [
    "access_id = getpass.getpass(\"Enter aws access ID : \")\n",
    "access_key = getpass.getpass(\"Enter aws access KEY : \")"
   ]
  },
  {
   "cell_type": "code",
   "execution_count": null,
   "id": "f7eca070",
   "metadata": {},
   "outputs": [],
   "source": [
    "import boto3\n",
    "\n",
    "bucket_name = \"sagemaker-us-east-1-123884475188\"\n",
    "object_name = \"huggingface-pytorch-training-2023-09-13-07-45-20-615/output/model.tar.gz\"\n",
    "file_name = \"/data/sagemaker/model.tar.gz\"\n",
    "\n",
    "s3 = boto3.client('s3',\n",
    "         aws_access_key_id=access_id,\n",
    "         aws_secret_access_key= \"2Ufsvo6lZUMcNs+tOLe/KGUoL6jSW9GYy8AypekE\")"
   ]
  }
 ],
 "metadata": {
  "kernelspec": {
   "display_name": "Python 3",
   "language": "python",
   "name": "python3"
  },
  "language_info": {
   "codemirror_mode": {
    "name": "ipython",
    "version": 3
   },
   "file_extension": ".py",
   "mimetype": "text/x-python",
   "name": "python",
   "nbconvert_exporter": "python",
   "pygments_lexer": "ipython3",
   "version": "3.8.16"
  }
 },
 "nbformat": 4,
 "nbformat_minor": 5
}
